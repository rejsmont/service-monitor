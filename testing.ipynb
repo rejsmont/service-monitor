{
 "cells": [
  {
   "cell_type": "code",
   "execution_count": 1,
   "metadata": {},
   "outputs": [],
   "source": [
    "from pylxd import Client\n",
    "import yaml\n",
    "import urllib3\n",
    "urllib3.disable_warnings(urllib3.exceptions.InsecureRequestWarning)"
   ]
  },
  {
   "cell_type": "code",
   "execution_count": 2,
   "metadata": {},
   "outputs": [],
   "source": [
    "from backend.containers import Containers\n",
    "\n",
    "containers = Containers('config/lxd.yaml')"
   ]
  },
  {
   "cell_type": "code",
   "execution_count": 3,
   "metadata": {},
   "outputs": [
    {
     "data": {
      "text/plain": [
       "{'vf-srv-3': {'db-srv-3': 'Running',\n",
       "  'sogo-srv-1': 'Running',\n",
       "  'sfl-labdb': 'Running',\n",
       "  'redis-srv-1': 'Running'},\n",
       " 'vf-srv-5': {'web-srv-wedding': 'Running',\n",
       "  'web-srv-autodiscover': 'Running',\n",
       "  'web-srv-eysymont': 'Running',\n",
       "  'web-srv-rejsmont': 'Running',\n",
       "  'redis-srv-3': 'Running',\n",
       "  'ha-srv-2': 'Running'},\n",
       " 'vf-srv-4': {'web-srv-ejsmont': 'Running',\n",
       "  'jupyter-srv': 'Running',\n",
       "  'ad-srv-2': 'Running',\n",
       "  'redis-srv-2': 'Running',\n",
       "  'mail-srv-2': 'Running'},\n",
       " 'vf-srv-1': {'db-srv-1': 'Running',\n",
       "  'name-srv-1': 'Running',\n",
       "  'ad-srv-1': 'Running',\n",
       "  'cloud-srv-1': 'Running',\n",
       "  'log-srv-1': 'Running'},\n",
       " 'vf-srv-2': {'db-srv-2': 'Running',\n",
       "  'name-srv-2': 'Running',\n",
       "  'build-host-1': 'Stopped',\n",
       "  'ha-srv-1': 'Running',\n",
       "  'mail-srv-1': 'Running',\n",
       "  'utelife-labdb': 'Running'}}"
      ]
     },
     "execution_count": 3,
     "metadata": {},
     "output_type": "execute_result"
    }
   ],
   "source": [
    "containers.all_containers()"
   ]
  },
  {
   "cell_type": "code",
   "execution_count": null,
   "metadata": {},
   "outputs": [],
   "source": []
  }
 ],
 "metadata": {
  "kernelspec": {
   "display_name": "Python 3",
   "language": "python",
   "name": "python3"
  },
  "language_info": {
   "codemirror_mode": {
    "name": "ipython",
    "version": 3
   },
   "file_extension": ".py",
   "mimetype": "text/x-python",
   "name": "python",
   "nbconvert_exporter": "python",
   "pygments_lexer": "ipython3",
   "version": "3.9.1"
  }
 },
 "nbformat": 4,
 "nbformat_minor": 1
}
